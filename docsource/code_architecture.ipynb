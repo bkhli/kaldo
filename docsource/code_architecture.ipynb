{
 "cells": [
  {
   "cell_type": "markdown",
   "id": "4e0cc3be303a0ee5",
   "metadata": {
    "collapsed": false
   },
   "source": [
    "### Code Architecture\n",
    "\n",
    "<img src=\"_resources/class_diagram.png\" width=\"650\">\n"
   ]
  }
 ],
 "metadata": {
  "kernelspec": {
   "display_name": "Python 3",
   "language": "python",
   "name": "python3"
  },
  "language_info": {
   "codemirror_mode": {
    "name": "ipython",
    "version": 2
   },
   "file_extension": ".py",
   "mimetype": "text/x-python",
   "name": "python",
   "nbconvert_exporter": "python",
   "pygments_lexer": "ipython2",
   "version": "2.7.6"
  }
 },
 "nbformat": 4,
 "nbformat_minor": 5
}
